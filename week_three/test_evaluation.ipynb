{
 "cells": [
  {
   "metadata": {},
   "cell_type": "markdown",
   "source": [
    "# Revision de Evaluacion de Pruebas\n",
    "\n",
    "Buscando en diferentes articulos y Benchmarks, de LLM's, me tope con evaluaciones comunes, por ejemplo\n",
    "las usadas en Human Last Exam, algunos de ellos son Framework's como HELM (Holistic Evaluation of Language Models) y otros metodos de evaluacion como MMLU (Massive Multitask Language Understanding) y BIG-Bench. En el siguiente Jupyter evaluare el desempeño de ellos con algunas preguntas que le he planteado a los modelos de lenguaje, con los cuales se hizo el estudio de ablacion de prompting."
   ],
   "id": "28b4e83bd67fd550"
  },
  {
   "metadata": {},
   "cell_type": "code",
   "outputs": [],
   "execution_count": null,
   "source": "",
   "id": "8db30ffff1bf80dc"
  }
 ],
 "metadata": {
  "kernelspec": {
   "display_name": "Python 3",
   "language": "python",
   "name": "python3"
  },
  "language_info": {
   "codemirror_mode": {
    "name": "ipython",
    "version": 2
   },
   "file_extension": ".py",
   "mimetype": "text/x-python",
   "name": "python",
   "nbconvert_exporter": "python",
   "pygments_lexer": "ipython2",
   "version": "2.7.6"
  }
 },
 "nbformat": 4,
 "nbformat_minor": 5
}
